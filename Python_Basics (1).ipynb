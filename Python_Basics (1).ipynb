{
  "nbformat": 4,
  "nbformat_minor": 0,
  "metadata": {
    "colab": {
      "name": "Python_Basics.ipynb",
      "provenance": []
    },
    "kernelspec": {
      "name": "python3",
      "display_name": "Python 3"
    }
  },
  "cells": [
    {
      "cell_type": "markdown",
      "metadata": {
        "id": "NIngQ8xNrzkT",
        "colab_type": "text"
      },
      "source": [
        "# **Get Started with Python**\n",
        "\n",
        "![download.png](data:image/png;base64,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)"
      ]
    },
    {
      "cell_type": "markdown",
      "metadata": {
        "id": "efAE8HPEPZVM",
        "colab_type": "text"
      },
      "source": [
        "**Integers and Float Data types**\n",
        "\n",
        "If a number does not contain decimal it is consider as integer whereas otherwise it is consider as float.\n",
        "Lets see some examples\n"
      ]
    },
    {
      "cell_type": "code",
      "metadata": {
        "id": "7ycm98JcQAmY",
        "colab_type": "code",
        "colab": {
          "base_uri": "https://localhost:8080/",
          "height": 35
        },
        "outputId": "deb5fe0d-d138-46ef-fadd-f54e5184e1d0"
      },
      "source": [
        "x = 10\n",
        "print(type(x))"
      ],
      "execution_count": null,
      "outputs": [
        {
          "output_type": "stream",
          "text": [
            "<class 'int'>\n"
          ],
          "name": "stdout"
        }
      ]
    },
    {
      "cell_type": "code",
      "metadata": {
        "id": "vcOwgf3fQGiR",
        "colab_type": "code",
        "colab": {
          "base_uri": "https://localhost:8080/",
          "height": 35
        },
        "outputId": "2aa5dddf-f454-4c25-b663-da3e1ca239f6"
      },
      "source": [
        "y = 10.45\n",
        "print(type(y))"
      ],
      "execution_count": null,
      "outputs": [
        {
          "output_type": "stream",
          "text": [
            "<class 'float'>\n"
          ],
          "name": "stdout"
        }
      ]
    },
    {
      "cell_type": "markdown",
      "metadata": {
        "id": "4TR-VXXuQPeJ",
        "colab_type": "text"
      },
      "source": [
        "**String Data type**\n",
        "\n",
        "\n",
        "> Sequence of characters is called strings. They are often represented by \"  \" or '   '.\n",
        "Let us see some examples\n",
        "\n"
      ]
    },
    {
      "cell_type": "code",
      "metadata": {
        "id": "SM5OFg-4RBIU",
        "colab_type": "code",
        "colab": {
          "base_uri": "https://localhost:8080/",
          "height": 35
        },
        "outputId": "5e1979d8-670e-4733-9adc-9772077615f2"
      },
      "source": [
        "s = print(\"Hello\")"
      ],
      "execution_count": null,
      "outputs": [
        {
          "output_type": "stream",
          "text": [
            "Hello\n"
          ],
          "name": "stdout"
        }
      ]
    },
    {
      "cell_type": "markdown",
      "metadata": {
        "id": "rRXe7r0lRNeq",
        "colab_type": "text"
      },
      "source": [
        "If we need to type sentence \n",
        "\n",
        "\n",
        ">Let's learn python with Kitty\n",
        "\n",
        "The syntax will be\n",
        "\n"
      ]
    },
    {
      "cell_type": "code",
      "metadata": {
        "id": "nzau8uS4RLj7",
        "colab_type": "code",
        "colab": {
          "base_uri": "https://localhost:8080/",
          "height": 35
        },
        "outputId": "b6bfc2bc-5df6-4469-fa75-3732f577e491"
      },
      "source": [
        "s = \"Let's learn python with kitty\"\n",
        "print(s)"
      ],
      "execution_count": null,
      "outputs": [
        {
          "output_type": "stream",
          "text": [
            "Let's learn python with kitty\n"
          ],
          "name": "stdout"
        }
      ]
    },
    {
      "cell_type": "markdown",
      "metadata": {
        "id": "MSdjDCatSAVN",
        "colab_type": "text"
      },
      "source": [
        "If we need to type sentence \n",
        "\n",
        "\n",
        ">'Get started with python' is a \"good\" tutorial by Kitty\n",
        "\n",
        "The syntax will be\n"
      ]
    },
    {
      "cell_type": "code",
      "metadata": {
        "id": "KPpAis96RlVa",
        "colab_type": "code",
        "colab": {
          "base_uri": "https://localhost:8080/",
          "height": 35
        },
        "outputId": "719ee97c-de81-462b-e068-cbe9fd7c769b"
      },
      "source": [
        "s = ''''Get started with python' is a \"good\" tutorial by Kitty'''\n",
        "print(s)\n"
      ],
      "execution_count": null,
      "outputs": [
        {
          "output_type": "stream",
          "text": [
            "'Get started with python' is a \"good\" tutorial by Kitty\n"
          ],
          "name": "stdout"
        }
      ]
    },
    {
      "cell_type": "markdown",
      "metadata": {
        "id": "bv4sMSzsScI8",
        "colab_type": "text"
      },
      "source": [
        "If we need to type sentence \n",
        "\n",
        "\n",
        ">'Get started with python' \n",
        "\n",
        "> is a \n",
        "\n",
        "> good tutorial by Kitty\n",
        "\n",
        "\n",
        "\n",
        "\n",
        "\n",
        "\n",
        "\n",
        "\n",
        "The syntax will be"
      ]
    },
    {
      "cell_type": "code",
      "metadata": {
        "id": "o5fu3RucSaxh",
        "colab_type": "code",
        "colab": {
          "base_uri": "https://localhost:8080/",
          "height": 69
        },
        "outputId": "c16ca0aa-b20b-4fa0-f511-b3c0edde6403"
      },
      "source": [
        "s = \"\"\"'Get started with python' \n",
        "is a\n",
        "good tutorial by Kitty\"\"\"\n",
        "print(s)"
      ],
      "execution_count": null,
      "outputs": [
        {
          "output_type": "stream",
          "text": [
            "'Get started with python' \n",
            "is a\n",
            "good tutorial by Kitty\n"
          ],
          "name": "stdout"
        }
      ]
    },
    {
      "cell_type": "markdown",
      "metadata": {
        "id": "MtcvnDsLWMZZ",
        "colab_type": "text"
      },
      "source": [
        "**Boolean Data Type**\n",
        "\n",
        "Boolean data type in python only supports \"True \" or \"False\". *True* is internally represented as *1* whereas *False* is internally represented as *0*.\n",
        "\n",
        "Let's us understand with an examples"
      ]
    },
    {
      "cell_type": "code",
      "metadata": {
        "id": "86SWwbfwWrGV",
        "colab_type": "code",
        "colab": {
          "base_uri": "https://localhost:8080/",
          "height": 86
        },
        "outputId": "36e4bab6-d585-4b9d-98eb-41b7e235471c"
      },
      "source": [
        "x = 10\n",
        "y = 20\n",
        "z = x > y\n",
        "\n",
        "print(type(x))\n",
        "print(type(y))\n",
        "print(type(z))\n",
        "print(z)"
      ],
      "execution_count": null,
      "outputs": [
        {
          "output_type": "stream",
          "text": [
            "<class 'int'>\n",
            "<class 'int'>\n",
            "<class 'bool'>\n",
            "False\n"
          ],
          "name": "stdout"
        }
      ]
    },
    {
      "cell_type": "markdown",
      "metadata": {
        "id": "WLVz62PBW2YG",
        "colab_type": "text"
      },
      "source": [
        "**Arithmetic Operators and Integers**\n",
        "\n",
        "There are 7 arithmetic operators availble in python. These are the following :\n",
        "\n",
        "\n",
        "1. Addition (+)\n",
        "1. Subtraction (-)\n",
        "2. Multiplication (*)\n",
        "1. Divison  (/)\n",
        "2.  Modulus (%)\n",
        "1.  Integer division (//)\n",
        "2.  Exponential (**)\n",
        "\n",
        "Let us see some examples of arithmetic operators !\n",
        "\n"
      ]
    },
    {
      "cell_type": "code",
      "metadata": {
        "id": "BB2IZGZrYDNd",
        "colab_type": "code",
        "colab": {
          "base_uri": "https://localhost:8080/",
          "height": 68
        },
        "outputId": "ed0ea16d-4cbb-4cc4-e36b-746b20980b06"
      },
      "source": [
        "print(10+2)\n",
        "print(2.0+3)\n",
        "print(13-98)\n"
      ],
      "execution_count": null,
      "outputs": [
        {
          "output_type": "stream",
          "text": [
            "12\n",
            "5.0\n",
            "-85\n"
          ],
          "name": "stdout"
        }
      ]
    },
    {
      "cell_type": "markdown",
      "metadata": {
        "id": "IFjOKXV4YVZ6",
        "colab_type": "text"
      },
      "source": [
        "*In the above examples we observe that when both the operands are integers/ float, then the result is also integer/ float. Whereas when one of the operators is float then the result is also float.*"
      ]
    },
    {
      "cell_type": "code",
      "metadata": {
        "id": "WqHD2d5kYrOb",
        "colab_type": "code",
        "colab": {
          "base_uri": "https://localhost:8080/",
          "height": 51
        },
        "outputId": "36319270-7df5-4714-e3f3-736528f5856a"
      },
      "source": [
        "print(10/2)\n",
        "print(10.0/2)"
      ],
      "execution_count": null,
      "outputs": [
        {
          "output_type": "stream",
          "text": [
            "5.0\n",
            "5.0\n"
          ],
          "name": "stdout"
        }
      ]
    },
    {
      "cell_type": "markdown",
      "metadata": {
        "id": "ejjGUl41Y4Fu",
        "colab_type": "text"
      },
      "source": [
        "*For division operator, we observe that the result is always float invariable of the type of operand.*"
      ]
    },
    {
      "cell_type": "code",
      "metadata": {
        "id": "WCyOQzFoZJDJ",
        "colab_type": "code",
        "colab": {
          "base_uri": "https://localhost:8080/"
        },
        "outputId": "38a46bd1-654b-4ee0-d00b-b0f7a452e960"
      },
      "source": [
        "print(15//4)\n",
        "print(15//4.0)"
      ],
      "execution_count": null,
      "outputs": [
        {
          "output_type": "stream",
          "text": [
            "3\n",
            "3.0\n"
          ],
          "name": "stdout"
        }
      ]
    },
    {
      "cell_type": "markdown",
      "metadata": {
        "id": "JA3GApo6nYQs",
        "colab_type": "text"
      },
      "source": [
        "**Input function()**\n",
        "\n",
        "This is a user interactive function where the input is taken by the user. Let us see few examples to deploy this function.\n"
      ]
    },
    {
      "cell_type": "code",
      "metadata": {
        "id": "LtwA9vpjnpHH",
        "colab_type": "code",
        "colab": {
          "base_uri": "https://localhost:8080/",
          "height": 138
        },
        "outputId": "10c31043-b0ca-456b-8483-cd7372f503bd"
      },
      "source": [
        "x0 = input(\"get started with python is a good tutorial?\")\n",
        "print(x)\n",
        "\n",
        "x1 = input(\"enter a value : \")\n",
        "y1 = input (\"enter a value :\")\n",
        "print(x1+y1)\n",
        "print(type(x1))\n",
        "print(type(y1))"
      ],
      "execution_count": 4,
      "outputs": [
        {
          "output_type": "stream",
          "text": [
            "get started with python is a good tutorial?yes\n",
            "12\n",
            "enter a value : 10\n",
            "enter a value :20\n",
            "1020\n",
            "<class 'str'>\n",
            "<class 'str'>\n"
          ],
          "name": "stdout"
        }
      ]
    },
    {
      "cell_type": "markdown",
      "metadata": {
        "id": "gg7u2G8soRx_",
        "colab_type": "text"
      },
      "source": [
        "*We observe that rather than addition operation, we got concatenation of values entered. This is because the data type of input is string. The required addition can be done by changing the data type using python inbuilt function, Let us see an example.*\n"
      ]
    },
    {
      "cell_type": "code",
      "metadata": {
        "id": "sSi2N6u3pcfj",
        "colab_type": "code",
        "colab": {
          "base_uri": "https://localhost:8080/",
          "height": 104
        },
        "outputId": "7d3b7447-6b36-4391-8fec-600a8e9d1e02"
      },
      "source": [
        "x1 = input(\"enter a value : \")\n",
        "y1 = input (\"enter a value :\")\n",
        "print(int(x1)+int(y1))\n",
        "print(type(x1))\n",
        "print(type(y1))"
      ],
      "execution_count": 5,
      "outputs": [
        {
          "output_type": "stream",
          "text": [
            "enter a value : 10\n",
            "enter a value :20\n",
            "30\n",
            "<class 'str'>\n",
            "<class 'str'>\n"
          ],
          "name": "stdout"
        }
      ]
    },
    {
      "cell_type": "markdown",
      "metadata": {
        "id": "IEUU_-LZprej",
        "colab_type": "text"
      },
      "source": [
        "*However, a more efficient approach would be to use **eval** **function** which implicitly convert the data into it data type.*"
      ]
    },
    {
      "cell_type": "markdown",
      "metadata": {
        "id": "T8MHvi4HrO-s",
        "colab_type": "text"
      },
      "source": [
        "**Print function ()**\n",
        "\n",
        "Let us understand how print function can be deployed to show how to display your results."
      ]
    },
    {
      "cell_type": "code",
      "metadata": {
        "id": "0AFii_zlprNy",
        "colab_type": "code",
        "colab": {
          "base_uri": "https://localhost:8080/",
          "height": 104
        },
        "outputId": "edb7069f-3b78-4feb-b067-1caa14f8d924"
      },
      "source": [
        "print('Hello \\n Python')\n",
        "print('Hello \\t Python')\n",
        "print('Hello'+ 'Python')\n",
        "print('Hello'*5)"
      ],
      "execution_count": 10,
      "outputs": [
        {
          "output_type": "stream",
          "text": [
            "Hello \n",
            " Python\n",
            "Hello \t Python\n",
            "HelloPython\n",
            "HelloHelloHelloHelloHello\n"
          ],
          "name": "stdout"
        }
      ]
    },
    {
      "cell_type": "markdown",
      "metadata": {
        "id": "erFoC8pi4Zv7",
        "colab_type": "text"
      },
      "source": [
        "**If, If-else and elif statement**\n",
        "\n",
        "\n",
        "There are three types of control statement in python :\n",
        "\n",
        "1.   Sequential: Here, instruction are executed in the way they are written. \n",
        "\n",
        "2.   Selection : Here, instruction are executed selectively, for example if, else-if and elif\n",
        "1.   Iterative : Here, instruction are executed repeatedly, for example : while and for loops.\n",
        "\n",
        "\n",
        "\n",
        "\n",
        "\n",
        "\n",
        "\n",
        "\n",
        "\n",
        "\n",
        "\n",
        "\n",
        "\n",
        "\n",
        "\n"
      ]
    },
    {
      "cell_type": "markdown",
      "metadata": {
        "id": "6RXNfEnSCMGW",
        "colab_type": "text"
      },
      "source": [
        "**Conditioning and Branching**\n",
        "\n",
        "Let's understand how if- else statement works pictorially. \n",
        "\n",
        "![if else-1.png](data:image/png;base64,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)"
      ]
    },
    {
      "cell_type": "markdown",
      "metadata": {
        "id": "UJrgVShJ8Qnr",
        "colab_type": "text"
      },
      "source": [
        "Let us write a program to understand if-else statement elaborately,"
      ]
    },
    {
      "cell_type": "code",
      "metadata": {
        "id": "jXq8YVUa7g1r",
        "colab_type": "code",
        "colab": {}
      },
      "source": [
        ""
      ],
      "execution_count": null,
      "outputs": []
    }
  ]
}